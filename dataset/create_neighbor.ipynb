{
 "cells": [
  {
   "cell_type": "code",
   "execution_count": 5,
   "metadata": {},
   "outputs": [
    {
     "name": "stdout",
     "output_type": "stream",
     "text": [
      "/m/027rn\n",
      "/location/country/form_of_government\n",
      "[0, 0, 1]\n"
     ]
    }
   ],
   "source": [
    "from collections import defaultdict\n",
    "import time\n",
    "id2entity_name = defaultdict(str)\n",
    "dataset_name = 'FB15k-237'\n",
    "\n",
    "with open('./' + dataset_name + '/get_neighbor/entity2id.txt', 'r') as file:\n",
    "    entity_lines = file.readlines()\n",
    "    for line in entity_lines:\n",
    "        _name, _id = line.strip().split(\"\\t\")\n",
    "        id2entity_name[int(_id)] = _name\n",
    "\n",
    "id2relation_name = defaultdict(str)\n",
    "\n",
    "with open('./' + dataset_name + '/get_neighbor/relation2id.txt', 'r') as file:\n",
    "    relation_lines = file.readlines()\n",
    "    for line in relation_lines:\n",
    "        _name, _id = line.strip().split(\"\\t\")\n",
    "        id2relation_name[int(_id)] = _name\n",
    "\n",
    "train_triplet = []\n",
    "\n",
    "\n",
    "for line in open('./' + dataset_name + '/get_neighbor/train2id.txt', 'r'):\n",
    "    head, tail, relation = line.strip('\\n').split()\n",
    "    train_triplet.append(list((int(head), int(relation), int(tail))))\n",
    "\n",
    "for line in open('./' + dataset_name + '/get_neighbor/test2id.txt', 'r'):\n",
    "    head, tail, relation = line.strip('\\n').split()\n",
    "    train_triplet.append(list((int(head), int(relation), int(tail))))\n",
    "\n",
    "for line in open('./'+dataset_name+'/get_neighbor/valid2id.txt', 'r'):\n",
    "    head, tail, relation = line.strip('\\n').split()\n",
    "    train_triplet.append(list((int(head), int(relation), int(tail))))\n",
    "\n",
    "print(id2entity_name[0])\n",
    "print(id2relation_name[0])\n",
    "print(train_triplet[0])"
   ]
  },
  {
   "cell_type": "code",
   "execution_count": 3,
   "metadata": {},
   "outputs": [],
   "source": [
    "graph = {}\n",
    "reverse_graph = {}\n",
    "\n",
    "def init_graph(graph_triplet):\n",
    "\n",
    "        for triple in graph_triplet:\n",
    "            head = triple[0]\n",
    "            rela = triple[1]\n",
    "            tail = triple[2]\n",
    "\n",
    "            if(head not in graph.keys()):\n",
    "                graph[head] = {}\n",
    "                graph[head][tail] = rela\n",
    "            else:\n",
    "                graph[head][tail] = rela\n",
    "\n",
    "            if(tail not in reverse_graph.keys()):\n",
    "                reverse_graph[tail] = {}\n",
    "                reverse_graph[tail][head] = rela\n",
    "            else:\n",
    "                reverse_graph[tail][head] = rela\n",
    "        \n",
    "        # return graph, reverse_graph, node_indegree, node_outdegree\n",
    "\n",
    "init_graph(train_triplet)"
   ]
  },
  {
   "cell_type": "code",
   "execution_count": 4,
   "metadata": {},
   "outputs": [],
   "source": [
    "import random\n",
    "\n",
    "def random_delete(triplet, reserved_num): \n",
    "    reserved = random.sample(triplet, reserved_num)\n",
    "    return reserved\n",
    "\n",
    "def get_onestep_neighbors(graph, source, sample_num):\n",
    "    triplet = []\n",
    "    try:\n",
    "        nei = list(graph[source].keys())\n",
    "        # nei = random.sample(graph[source].keys(), sample_num)\n",
    "        triplet = [tuple((source, graph[source][nei[i]], nei[i])) for i in range(len(nei))]\n",
    "    except KeyError:\n",
    "        pass\n",
    "    except ValueError:\n",
    "        nei = list(graph[source].keys())\n",
    "        triplet = [tuple((source, graph[source][nei[i]], nei[i])) for i in range(len(nei))]\n",
    "    return triplet\n",
    "\n",
    "def get_entity_neighbors(traget_entity, max_triplet):\n",
    "\n",
    "    as_head_neighbors = get_onestep_neighbors(graph, traget_entity, max_triplet // 2)\n",
    "    as_tail_neighbors = get_onestep_neighbors(reverse_graph, traget_entity, max_triplet // 2)\n",
    "\n",
    "    all_triplet = as_head_neighbors + as_tail_neighbors\n",
    "\n",
    "    return all_triplet\n",
    "\n",
    "def get_triplet(triplet):\n",
    "    head_entity = triplet[0]\n",
    "    tail_entity = triplet[2]\n",
    "    triplet = tuple((triplet[0], triplet[1], triplet[2]))\n",
    "\n",
    "    head_triplet = get_entity_neighbors(head_entity, 4)\n",
    "    tail_triplet = get_entity_neighbors(tail_entity, 4)\n",
    "\n",
    "    temp_triplet = list(set(head_triplet + tail_triplet))\n",
    "    temp_triplet = list(set(temp_triplet) - set([triplet]))\n",
    "    # if len(temp_triplet) > 8:\n",
    "    #     del_triplet = list(set(temp_triplet) - set([triplet]))\n",
    "        # temp_triplet = random_delete(del_triplet, 7)\n",
    "\n",
    "    return temp_triplet"
   ]
  },
  {
   "cell_type": "code",
   "execution_count": 4,
   "metadata": {},
   "outputs": [],
   "source": [
    "import copy\n",
    "\n",
    "def change_(triplet_list):\n",
    "    tri_text = []\n",
    "    for item in triplet_list:\n",
    "        # text = id2entity_name[item[0]] + '\\t' + id2relation_name[item[1]] + '\\t' + id2entity_name[item[2]]\n",
    "        h = id2entity_name[item[0]]\n",
    "        r = id2relation_name[item[1]]\n",
    "        t = id2entity_name[item[2]]\n",
    "        tri_text.append([h, r, t])\n",
    "    return tri_text\n",
    "\n",
    "mask_idx = 99999999\n",
    "masked_tail_neighbor = defaultdict(list)\n",
    "masked_head_neighbor = defaultdict(list)\n",
    "for triplet in train_triplet:\n",
    "    tail_masked = copy.deepcopy(triplet)\n",
    "    head_masked = copy.deepcopy(triplet)\n",
    "    tail_masked[2] = mask_idx\n",
    "    head_masked[0] = mask_idx\n",
    "    masked_tail_neighbor['\\t'.join([id2entity_name[triplet[0]], id2relation_name[triplet[1]]])] = change_(get_triplet(tail_masked))\n",
    "    masked_head_neighbor['\\t'.join([id2entity_name[triplet[2]], id2relation_name[triplet[1]]])] = change_(get_triplet(head_masked))"
   ]
  },
  {
   "cell_type": "code",
   "execution_count": 5,
   "metadata": {},
   "outputs": [],
   "source": [
    "# print(list(masked_tail_neighbor.keys())[0])\n",
    "import json\n",
    "# with open(\"masked_tail_neighbor.txt\", \"w\") as file:\n",
    "#     for item in masked_tail_neighbor:\n",
    "#         # print(item + '\\t' + str(nei_text).strip('[').strip(']'))\n",
    "#         # print(item + '\\t' + str(nei_text) + '\\n')\n",
    "#         a = masked_tail_neighbor[item]\n",
    "#         print(a[0])\n",
    "#         time.sleep(500)\\\n",
    "with open(\"WN_masked_tail_neighbor.txt\", \"w\") as file:\n",
    "    file.write(json.dumps(masked_tail_neighbor, indent=1))\n",
    "\n",
    "with open(\"WN_masked_head_neighbor.txt\", \"w\") as file:\n",
    "    file.write(json.dumps(masked_head_neighbor, indent=1))"
   ]
  },
  {
   "cell_type": "code",
   "execution_count": 7,
   "metadata": {},
   "outputs": [
    {
     "name": "stdout",
     "output_type": "stream",
     "text": [
      "00260881\t_hypernym\n",
      "37\n"
     ]
    }
   ],
   "source": [
    "import json\n",
    "with open(\"WN_masked_tail_neighbor.txt\", 'r') as file:\n",
    "    test = json.load(file)\n",
    "\n",
    "print(list(test.keys())[0])\n",
    "count = 0\n",
    "max = 0\n",
    "# /m/027rn\t/location/country/form_of_government\n",
    "for i in test:\n",
    "    if len(i) > max:\n",
    "        max = len(i)\n",
    "    # count += len(i)\n",
    "\n",
    "print(max)\n",
    "# print(len(masked_tail_neighbor.keys()))"
   ]
  }
 ],
 "metadata": {
  "interpreter": {
   "hash": "140e5671ff8d8e0c30ddaaa56768e89c7eab0fa9e86409bbb60c785b3a7c0389"
  },
  "kernelspec": {
   "display_name": "Python 3.7.11 64-bit ('poi': conda)",
   "language": "python",
   "name": "python3"
  },
  "language_info": {
   "codemirror_mode": {
    "name": "ipython",
    "version": 3
   },
   "file_extension": ".py",
   "mimetype": "text/x-python",
   "name": "python",
   "nbconvert_exporter": "python",
   "pygments_lexer": "ipython3",
   "version": "3.7.11"
  },
  "orig_nbformat": 4
 },
 "nbformat": 4,
 "nbformat_minor": 2
}
